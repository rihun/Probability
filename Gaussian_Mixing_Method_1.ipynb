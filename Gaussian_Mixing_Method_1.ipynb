{
  "nbformat": 4,
  "nbformat_minor": 0,
  "metadata": {
    "colab": {
      "name": "Gaussian_Mixing_Method_1.ipynb",
      "private_outputs": true,
      "provenance": [],
      "authorship_tag": "ABX9TyNrl7DB8YFe3DxMwvdYY9d8",
      "include_colab_link": true
    },
    "kernelspec": {
      "name": "python3",
      "display_name": "Python 3"
    },
    "language_info": {
      "name": "python"
    }
  },
  "cells": [
    {
      "cell_type": "markdown",
      "metadata": {
        "id": "view-in-github",
        "colab_type": "text"
      },
      "source": [
        "<a href=\"https://colab.research.google.com/github/rihun/Probability/blob/main/Gaussian_Mixing_Method_1.ipynb\" target=\"_parent\"><img src=\"https://colab.research.google.com/assets/colab-badge.svg\" alt=\"Open In Colab\"/></a>"
      ]
    },
    {
      "cell_type": "code",
      "metadata": {
        "id": "f_sINhKaUHa2"
      },
      "source": [
        "## Bimodal construction from the three normal distributions\n",
        "from numpy import hstack,array\n",
        "from numpy.random import normal\n",
        "from matplotlib import pyplot\n",
        "from sklearn.mixture import GaussianMixture\n",
        "##generate two normal distributions\n",
        "X1=normal(loc=10, scale=5, size=3000)\n",
        "X2=normal(loc=30, scale=5, size=5000)\n",
        "X3=normal(loc=50, scale=5, size=7000)\n",
        "##Stacking the two distribution\n",
        "X=hstack((X1, X2, X3))\n",
        "print(X.shape)\n",
        "pyplot.hist(X,bins=50,density=True)\n",
        "pyplot.show()\n",
        "X=X.reshape((len(X),1))\n",
        "print(X.shape)\n",
        "## Create Gaussian Model and fit with the distribution\n",
        "model=GaussianMixture(n_components=3,init_params='random')\n",
        "model.fit(X)\n",
        "y_hat=model.predict(X)\n",
        "print(y_hat[2970:3444])"
      ],
      "execution_count": null,
      "outputs": []
    }
  ]
}