{
  "nbformat": 4,
  "nbformat_minor": 0,
  "metadata": {
    "colab": {
      "name": "KL_Divergence.ipynb",
      "private_outputs": true,
      "provenance": [],
      "authorship_tag": "ABX9TyP5jCs9FQq7GRmArwpvOdwy",
      "include_colab_link": true
    },
    "kernelspec": {
      "name": "python3",
      "display_name": "Python 3"
    },
    "language_info": {
      "name": "python"
    }
  },
  "cells": [
    {
      "cell_type": "markdown",
      "metadata": {
        "id": "view-in-github",
        "colab_type": "text"
      },
      "source": [
        "<a href=\"https://colab.research.google.com/github/rihun/Probability/blob/main/KL_Divergence.ipynb\" target=\"_parent\"><img src=\"https://colab.research.google.com/assets/colab-badge.svg\" alt=\"Open In Colab\"/></a>"
      ]
    },
    {
      "cell_type": "code",
      "metadata": {
        "id": "CZ2ISNYpMTEy"
      },
      "source": [
        "import numpy\n",
        "from math import log2\n",
        "from matplotlib import pyplot \n",
        "\n",
        "\n",
        "## Calculate the KL divergenc\n",
        "\n",
        "def kl_dv1(p,q):\n",
        "  k=[]\n",
        "  for i in range (len(p)):\n",
        "    k1=p[i]*log2(p[i]/q[i])\n",
        "    k.append(k1)\n",
        "  return sum(k)\n",
        "## Define Distribution\n",
        "events=['r','g','y']\n",
        "p=[0.10, 0.40, 0.50]\n",
        "q=[0.80,0.15,0.15]\n",
        "print('p=%.3f, q=%.3f'%(sum(p), sum(q)))\n",
        "#plot the first distribution\n",
        "pyplot.subplot(2,1,1)\n",
        "pyplot.bar(events,p)\n",
        "#plot the second  distribution\n",
        "pyplot.subplot(2,1,2)\n",
        "pyplot.bar(events,q)\n",
        "pyplot.show()\n",
        "\n",
        "##divergnece of P||Q\n",
        "kl_pq=kl_dv1(p,q)\n",
        "print('p||q divergence=%.3f'% kl_pq)\n",
        "\n",
        "##divergence of Q|| P\n",
        "kl_qp=kl_dv1(q,p)\n",
        "print( 'q||p divergence=%.3f'% kl_qp)\n"
      ],
      "execution_count": null,
      "outputs": []
    },
    {
      "cell_type": "code",
      "metadata": {
        "id": "rJuyAh5ZREgI"
      },
      "source": [
        ""
      ],
      "execution_count": null,
      "outputs": []
    }
  ]
}